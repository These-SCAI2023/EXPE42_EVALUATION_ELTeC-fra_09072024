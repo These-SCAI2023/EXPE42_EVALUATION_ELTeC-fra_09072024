{
 "cells": [
  {
   "cell_type": "code",
   "id": "e4672dfe-0b23-44d7-9663-f36e99f983a2",
   "metadata": {
    "ExecuteTime": {
     "end_time": "2024-10-26T06:04:22.919717Z",
     "start_time": "2024-10-26T06:04:22.164500Z"
    }
   },
   "source": [
    "import glob\n",
    "import csv\n",
    "import pandas as pd\n",
    "\n",
    "path_data = \"../ANNOTATION_TRANSFORMED_AIA/DAUDET/*\"\n",
    "liste_annote=[]\n",
    "for annotateur in glob.glob(path_data):\n",
    "    for file in glob.glob(\"%s/*\"%annotateur):\n",
    "        annotation = pd.read_csv(file, on_bad_lines='skip')\n",
    "        if \"Kraken\" in file:\n",
    "            annotation.columns = [\"Label\"]\n",
    "            liste_annote.append([annotation])\n",
    "\n",
    "    \n",
    "   \n",
    "   "
   ],
   "outputs": [],
   "execution_count": 1
  },
  {
   "cell_type": "code",
   "id": "5ec0b090-9435-49b8-a66c-3cb48413e720",
   "metadata": {
    "ExecuteTime": {
     "end_time": "2024-10-26T06:04:28.506338Z",
     "start_time": "2024-10-26T06:04:26.075685Z"
    }
   },
   "source": [
    "!pip install nltk"
   ],
   "outputs": [
    {
     "name": "stdout",
     "output_type": "stream",
     "text": [
      "Requirement already satisfied: nltk in /home/caroline/Documents/EXPE_2024/EXPE42_EVALUATION_ELTeC-fra_09072024/.venv/lib/python3.10/site-packages (3.9.1)\r\n",
      "Requirement already satisfied: click in /home/caroline/Documents/EXPE_2024/EXPE42_EVALUATION_ELTeC-fra_09072024/.venv/lib/python3.10/site-packages (from nltk) (8.1.7)\r\n",
      "Requirement already satisfied: joblib in /home/caroline/Documents/EXPE_2024/EXPE42_EVALUATION_ELTeC-fra_09072024/.venv/lib/python3.10/site-packages (from nltk) (1.4.2)\r\n",
      "Requirement already satisfied: regex>=2021.8.3 in /home/caroline/Documents/EXPE_2024/EXPE42_EVALUATION_ELTeC-fra_09072024/.venv/lib64/python3.10/site-packages (from nltk) (2024.9.11)\r\n",
      "Requirement already satisfied: tqdm in /home/caroline/Documents/EXPE_2024/EXPE42_EVALUATION_ELTeC-fra_09072024/.venv/lib/python3.10/site-packages (from nltk) (4.66.5)\r\n",
      "\r\n",
      "\u001B[1m[\u001B[0m\u001B[34;49mnotice\u001B[0m\u001B[1;39;49m]\u001B[0m\u001B[39;49m A new release of pip is available: \u001B[0m\u001B[31;49m23.2.1\u001B[0m\u001B[39;49m -> \u001B[0m\u001B[32;49m24.2\u001B[0m\r\n",
      "\u001B[1m[\u001B[0m\u001B[34;49mnotice\u001B[0m\u001B[1;39;49m]\u001B[0m\u001B[39;49m To update, run: \u001B[0m\u001B[32;49mpip install --upgrade pip\u001B[0m\r\n"
     ]
    }
   ],
   "execution_count": 2
  },
  {
   "cell_type": "code",
   "id": "a1fa64bc-ab73-4f44-8582-df51b9d3d12c",
   "metadata": {
    "ExecuteTime": {
     "end_time": "2024-10-26T06:04:55.085797Z",
     "start_time": "2024-10-26T06:04:53.295542Z"
    }
   },
   "source": [
    "import pandas as pd\n",
    "from  nltk.metrics import agreement\n",
    "\n",
    "# Assume this CSV has the format <tweet_id>,<label>\n",
    "# anno1_df = pd.read_csv(\"../ANNOTATION_TRANSFORMED_AIA_ARCHI/DAUDET/CF_DAUDET/CF_DAUDET_petit-chose_Kraken-base_spaCy3.7.2-lg.csv.aia.csv\",sep=\";\", on_bad_lines='skip')\n",
    "anno1_df = pd.read_csv(\"../ANNOTATION_TRANSFORMED_AIA_ARCHI/DAUDET/CF_DAUDET/CF_DAUDET_petit-chose_REF_spaCy3.7.2-lg.csv.aia.csv\",sep=\";\", on_bad_lines='skip')\n",
    "# anno1_df = pd.read_csv(\"../ANNOTATION_TRANSFORMED_AIA_ARCHI/DAUDET/CF_DAUDET/CF_DAUDET_petit-chose_TesseractFra-PNG_spaCy3.7.2-lg.csv.aia.csv\",sep=\";\", on_bad_lines='skip')\n",
    "anno1_df.columns = [\"Token_1\",\"Label_1\"]\n",
    "# print(\"pendant\",anno1_df)\n",
    "anno1_df=anno1_df.iloc[:6500]\n",
    "print(\"pendant\",anno1_df)\n",
    "\n",
    "\n",
    "# Assume this CSV has the format <tweet_id>,<label>\n",
    "# anno2_df = pd.read_csv(\"../ANNOTATION_TRANSFORMED_AIA_ARCHI/DAUDET/LM_DAUDET/LM_DAUDET_petit-chose_Kraken-base_spaCy3.7.2-lg.csv.aia.csv\",sep=\";\",on_bad_lines='skip')\n",
    "anno2_df = pd.read_csv(\"../ANNOTATION_TRANSFORMED_AIA_ARCHI/DAUDET/LM_DAUDET/LM_DAUDET_petit-chose_REF_spaCy3.7.2-lg.csv.aia.csv\",sep=\";\",on_bad_lines='skip')\n",
    "# anno2_df = pd.read_csv(\"../ANNOTATION_TRANSFORMED_AIA_ARCHI/DAUDET/LM_DAUDET/LM_DAUDET_petit-chose_TesseractFra-PNG_spaCy3.7.2-lg.csv.aia.csv\",sep=\";\",on_bad_lines='skip')\n",
    "\n",
    "anno2_df.columns = [\"Token_2\",\"Label_2\"]\n",
    "anno2_df=anno2_df.iloc[:6500]\n",
    "\n",
    "# Assume this CSV has the format <tweet_id>,<label>\n",
    "# anno3_df = pd.read_csv(\"../ANNOTATION_TRANSFORMED_AIA_ARCHI/DAUDET/MB_DAUDET/MB_DAUDET_petit-chose_Kraken-base_spaCy.3.7.3-lg.csv.aia.csv\",sep=\";\",on_bad_lines='skip')\n",
    "anno3_df = pd.read_csv(\"../ANNOTATION_TRANSFORMED_AIA_ARCHI/DAUDET/MB_DAUDET/MB_DAUDET_petit-chose_REF_spaCy3.7.2-lg.csv.aia.csv\",sep=\";\",on_bad_lines='skip')\n",
    "# anno3_df = pd.read_csv(\"../ANNOTATION_TRANSFORMED_AIA_ARCHI/DAUDET/MB_DAUDET/MB_DAUDET_petit-chose_TesseractFra-PNG_spaCy3.7.2-lg.csv.aia.csv\",sep=\";\",on_bad_lines='skip')\n",
    "anno3_df.columns = [\"Token_3\",\"Label_3\"]\n",
    "anno3_df=anno3_df.iloc[:6500]\n",
    "\n",
    "# Join so we have a data frame of labels for each tweet ID\n",
    "merged_df = anno1_df.join(anno2_df.join(anno3_df))\n",
    "\n",
    "# We can drop rows where we don't have two labelers if we want\n",
    "#. I think Krippendorf can account for missing data though, so this\n",
    "#. step isn't strictly necessary if you only care about Krippendorf\n",
    "labels_matched_df = merged_df.dropna()\n",
    "print(\"labels_matched_df\",labels_matched_df)\n",
    "# Reformat the data into the form AnnotationTask\n",
    "#  expects.\n",
    "data = []\n",
    "for idx, row in labels_matched_df.iterrows():\n",
    "    data.append((\"a1\", idx, row[\"Label_1\"]))\n",
    "    data.append((\"a2\", idx, row[\"Label_2\"]))\n",
    "    data.append((\"a3\", idx, row[\"Label_3\"]))\n",
    "print(\"-----------------------------------------------------\",data)\n",
    "    \n",
    "atask = agreement.AnnotationTask(data=data)\n",
    "\n",
    "print(\"Cohen's Kappa:\", atask.kappa())\n",
    "print(\"Fleiss's Kappa:\", atask.multi_kappa())\n",
    "\n",
    "# This function maps labels into a numeric space,\n",
    "#. so we can rely on the ordering of labels.\n",
    "def priority_distance(left_label, right_label):\n",
    "    mapped_labels = {\n",
    "        \"Critical\": 4,\n",
    "        \"High\": 3,\n",
    "        \"Medium\": 2,\n",
    "        \"Low\": 1,\n",
    "    }\n",
    "    left_i = mapped_labels[left_label]\n",
    "    right_i = mapped_labels[right_label]\n",
    "    \n",
    "    return abs(left_i - right_i)\n",
    "\n",
    "# Create a new annotation task with the distance function\n",
    "# atask_2 = agreement.AnnotationTask(data=data, distance=priority_distance)\n",
    "atask_2 = agreement.AnnotationTask(data=data)\n",
    "print(\"Krippendorf's Alpha:\", atask_2.alpha())"
   ],
   "outputs": [
    {
     "ename": "FileNotFoundError",
     "evalue": "[Errno 2] No such file or directory: '../ANNOTATION_TRANSFORMED_AIA_ARCHI/DAUDET/CF_DAUDET/CF_DAUDET_petit-chose_REF_spaCy3.7.2-lg.csv.aia.csv'",
     "output_type": "error",
     "traceback": [
      "\u001B[0;31m---------------------------------------------------------------------------\u001B[0m",
      "\u001B[0;31mFileNotFoundError\u001B[0m                         Traceback (most recent call last)",
      "Cell \u001B[0;32mIn[3], line 6\u001B[0m\n\u001B[1;32m      2\u001B[0m \u001B[38;5;28;01mfrom\u001B[39;00m  \u001B[38;5;21;01mnltk\u001B[39;00m\u001B[38;5;21;01m.\u001B[39;00m\u001B[38;5;21;01mmetrics\u001B[39;00m \u001B[38;5;28;01mimport\u001B[39;00m agreement\n\u001B[1;32m      4\u001B[0m \u001B[38;5;66;03m# Assume this CSV has the format <tweet_id>,<label>\u001B[39;00m\n\u001B[1;32m      5\u001B[0m \u001B[38;5;66;03m# anno1_df = pd.read_csv(\"../ANNOTATION_TRANSFORMED_AIA_ARCHI/DAUDET/CF_DAUDET/CF_DAUDET_petit-chose_Kraken-base_spaCy3.7.2-lg.csv.aia.csv\",sep=\";\", on_bad_lines='skip')\u001B[39;00m\n\u001B[0;32m----> 6\u001B[0m anno1_df \u001B[38;5;241m=\u001B[39m \u001B[43mpd\u001B[49m\u001B[38;5;241;43m.\u001B[39;49m\u001B[43mread_csv\u001B[49m\u001B[43m(\u001B[49m\u001B[38;5;124;43m\"\u001B[39;49m\u001B[38;5;124;43m../ANNOTATION_TRANSFORMED_AIA_ARCHI/DAUDET/CF_DAUDET/CF_DAUDET_petit-chose_REF_spaCy3.7.2-lg.csv.aia.csv\u001B[39;49m\u001B[38;5;124;43m\"\u001B[39;49m\u001B[43m,\u001B[49m\u001B[43msep\u001B[49m\u001B[38;5;241;43m=\u001B[39;49m\u001B[38;5;124;43m\"\u001B[39;49m\u001B[38;5;124;43m;\u001B[39;49m\u001B[38;5;124;43m\"\u001B[39;49m\u001B[43m,\u001B[49m\u001B[43m \u001B[49m\u001B[43mon_bad_lines\u001B[49m\u001B[38;5;241;43m=\u001B[39;49m\u001B[38;5;124;43m'\u001B[39;49m\u001B[38;5;124;43mskip\u001B[39;49m\u001B[38;5;124;43m'\u001B[39;49m\u001B[43m)\u001B[49m\n\u001B[1;32m      7\u001B[0m \u001B[38;5;66;03m# anno1_df = pd.read_csv(\"../ANNOTATION_TRANSFORMED_AIA_ARCHI/DAUDET/CF_DAUDET/CF_DAUDET_petit-chose_TesseractFra-PNG_spaCy3.7.2-lg.csv.aia.csv\",sep=\";\", on_bad_lines='skip')\u001B[39;00m\n\u001B[1;32m      8\u001B[0m anno1_df\u001B[38;5;241m.\u001B[39mcolumns \u001B[38;5;241m=\u001B[39m [\u001B[38;5;124m\"\u001B[39m\u001B[38;5;124mToken_1\u001B[39m\u001B[38;5;124m\"\u001B[39m,\u001B[38;5;124m\"\u001B[39m\u001B[38;5;124mLabel_1\u001B[39m\u001B[38;5;124m\"\u001B[39m]\n",
      "File \u001B[0;32m~/Documents/EXPE_2024/EXPE42_EVALUATION_ELTeC-fra_09072024/.venv/lib64/python3.10/site-packages/pandas/io/parsers/readers.py:1026\u001B[0m, in \u001B[0;36mread_csv\u001B[0;34m(filepath_or_buffer, sep, delimiter, header, names, index_col, usecols, dtype, engine, converters, true_values, false_values, skipinitialspace, skiprows, skipfooter, nrows, na_values, keep_default_na, na_filter, verbose, skip_blank_lines, parse_dates, infer_datetime_format, keep_date_col, date_parser, date_format, dayfirst, cache_dates, iterator, chunksize, compression, thousands, decimal, lineterminator, quotechar, quoting, doublequote, escapechar, comment, encoding, encoding_errors, dialect, on_bad_lines, delim_whitespace, low_memory, memory_map, float_precision, storage_options, dtype_backend)\u001B[0m\n\u001B[1;32m   1013\u001B[0m kwds_defaults \u001B[38;5;241m=\u001B[39m _refine_defaults_read(\n\u001B[1;32m   1014\u001B[0m     dialect,\n\u001B[1;32m   1015\u001B[0m     delimiter,\n\u001B[0;32m   (...)\u001B[0m\n\u001B[1;32m   1022\u001B[0m     dtype_backend\u001B[38;5;241m=\u001B[39mdtype_backend,\n\u001B[1;32m   1023\u001B[0m )\n\u001B[1;32m   1024\u001B[0m kwds\u001B[38;5;241m.\u001B[39mupdate(kwds_defaults)\n\u001B[0;32m-> 1026\u001B[0m \u001B[38;5;28;01mreturn\u001B[39;00m \u001B[43m_read\u001B[49m\u001B[43m(\u001B[49m\u001B[43mfilepath_or_buffer\u001B[49m\u001B[43m,\u001B[49m\u001B[43m \u001B[49m\u001B[43mkwds\u001B[49m\u001B[43m)\u001B[49m\n",
      "File \u001B[0;32m~/Documents/EXPE_2024/EXPE42_EVALUATION_ELTeC-fra_09072024/.venv/lib64/python3.10/site-packages/pandas/io/parsers/readers.py:620\u001B[0m, in \u001B[0;36m_read\u001B[0;34m(filepath_or_buffer, kwds)\u001B[0m\n\u001B[1;32m    617\u001B[0m _validate_names(kwds\u001B[38;5;241m.\u001B[39mget(\u001B[38;5;124m\"\u001B[39m\u001B[38;5;124mnames\u001B[39m\u001B[38;5;124m\"\u001B[39m, \u001B[38;5;28;01mNone\u001B[39;00m))\n\u001B[1;32m    619\u001B[0m \u001B[38;5;66;03m# Create the parser.\u001B[39;00m\n\u001B[0;32m--> 620\u001B[0m parser \u001B[38;5;241m=\u001B[39m \u001B[43mTextFileReader\u001B[49m\u001B[43m(\u001B[49m\u001B[43mfilepath_or_buffer\u001B[49m\u001B[43m,\u001B[49m\u001B[43m \u001B[49m\u001B[38;5;241;43m*\u001B[39;49m\u001B[38;5;241;43m*\u001B[39;49m\u001B[43mkwds\u001B[49m\u001B[43m)\u001B[49m\n\u001B[1;32m    622\u001B[0m \u001B[38;5;28;01mif\u001B[39;00m chunksize \u001B[38;5;129;01mor\u001B[39;00m iterator:\n\u001B[1;32m    623\u001B[0m     \u001B[38;5;28;01mreturn\u001B[39;00m parser\n",
      "File \u001B[0;32m~/Documents/EXPE_2024/EXPE42_EVALUATION_ELTeC-fra_09072024/.venv/lib64/python3.10/site-packages/pandas/io/parsers/readers.py:1620\u001B[0m, in \u001B[0;36mTextFileReader.__init__\u001B[0;34m(self, f, engine, **kwds)\u001B[0m\n\u001B[1;32m   1617\u001B[0m     \u001B[38;5;28mself\u001B[39m\u001B[38;5;241m.\u001B[39moptions[\u001B[38;5;124m\"\u001B[39m\u001B[38;5;124mhas_index_names\u001B[39m\u001B[38;5;124m\"\u001B[39m] \u001B[38;5;241m=\u001B[39m kwds[\u001B[38;5;124m\"\u001B[39m\u001B[38;5;124mhas_index_names\u001B[39m\u001B[38;5;124m\"\u001B[39m]\n\u001B[1;32m   1619\u001B[0m \u001B[38;5;28mself\u001B[39m\u001B[38;5;241m.\u001B[39mhandles: IOHandles \u001B[38;5;241m|\u001B[39m \u001B[38;5;28;01mNone\u001B[39;00m \u001B[38;5;241m=\u001B[39m \u001B[38;5;28;01mNone\u001B[39;00m\n\u001B[0;32m-> 1620\u001B[0m \u001B[38;5;28mself\u001B[39m\u001B[38;5;241m.\u001B[39m_engine \u001B[38;5;241m=\u001B[39m \u001B[38;5;28;43mself\u001B[39;49m\u001B[38;5;241;43m.\u001B[39;49m\u001B[43m_make_engine\u001B[49m\u001B[43m(\u001B[49m\u001B[43mf\u001B[49m\u001B[43m,\u001B[49m\u001B[43m \u001B[49m\u001B[38;5;28;43mself\u001B[39;49m\u001B[38;5;241;43m.\u001B[39;49m\u001B[43mengine\u001B[49m\u001B[43m)\u001B[49m\n",
      "File \u001B[0;32m~/Documents/EXPE_2024/EXPE42_EVALUATION_ELTeC-fra_09072024/.venv/lib64/python3.10/site-packages/pandas/io/parsers/readers.py:1880\u001B[0m, in \u001B[0;36mTextFileReader._make_engine\u001B[0;34m(self, f, engine)\u001B[0m\n\u001B[1;32m   1878\u001B[0m     \u001B[38;5;28;01mif\u001B[39;00m \u001B[38;5;124m\"\u001B[39m\u001B[38;5;124mb\u001B[39m\u001B[38;5;124m\"\u001B[39m \u001B[38;5;129;01mnot\u001B[39;00m \u001B[38;5;129;01min\u001B[39;00m mode:\n\u001B[1;32m   1879\u001B[0m         mode \u001B[38;5;241m+\u001B[39m\u001B[38;5;241m=\u001B[39m \u001B[38;5;124m\"\u001B[39m\u001B[38;5;124mb\u001B[39m\u001B[38;5;124m\"\u001B[39m\n\u001B[0;32m-> 1880\u001B[0m \u001B[38;5;28mself\u001B[39m\u001B[38;5;241m.\u001B[39mhandles \u001B[38;5;241m=\u001B[39m \u001B[43mget_handle\u001B[49m\u001B[43m(\u001B[49m\n\u001B[1;32m   1881\u001B[0m \u001B[43m    \u001B[49m\u001B[43mf\u001B[49m\u001B[43m,\u001B[49m\n\u001B[1;32m   1882\u001B[0m \u001B[43m    \u001B[49m\u001B[43mmode\u001B[49m\u001B[43m,\u001B[49m\n\u001B[1;32m   1883\u001B[0m \u001B[43m    \u001B[49m\u001B[43mencoding\u001B[49m\u001B[38;5;241;43m=\u001B[39;49m\u001B[38;5;28;43mself\u001B[39;49m\u001B[38;5;241;43m.\u001B[39;49m\u001B[43moptions\u001B[49m\u001B[38;5;241;43m.\u001B[39;49m\u001B[43mget\u001B[49m\u001B[43m(\u001B[49m\u001B[38;5;124;43m\"\u001B[39;49m\u001B[38;5;124;43mencoding\u001B[39;49m\u001B[38;5;124;43m\"\u001B[39;49m\u001B[43m,\u001B[49m\u001B[43m \u001B[49m\u001B[38;5;28;43;01mNone\u001B[39;49;00m\u001B[43m)\u001B[49m\u001B[43m,\u001B[49m\n\u001B[1;32m   1884\u001B[0m \u001B[43m    \u001B[49m\u001B[43mcompression\u001B[49m\u001B[38;5;241;43m=\u001B[39;49m\u001B[38;5;28;43mself\u001B[39;49m\u001B[38;5;241;43m.\u001B[39;49m\u001B[43moptions\u001B[49m\u001B[38;5;241;43m.\u001B[39;49m\u001B[43mget\u001B[49m\u001B[43m(\u001B[49m\u001B[38;5;124;43m\"\u001B[39;49m\u001B[38;5;124;43mcompression\u001B[39;49m\u001B[38;5;124;43m\"\u001B[39;49m\u001B[43m,\u001B[49m\u001B[43m \u001B[49m\u001B[38;5;28;43;01mNone\u001B[39;49;00m\u001B[43m)\u001B[49m\u001B[43m,\u001B[49m\n\u001B[1;32m   1885\u001B[0m \u001B[43m    \u001B[49m\u001B[43mmemory_map\u001B[49m\u001B[38;5;241;43m=\u001B[39;49m\u001B[38;5;28;43mself\u001B[39;49m\u001B[38;5;241;43m.\u001B[39;49m\u001B[43moptions\u001B[49m\u001B[38;5;241;43m.\u001B[39;49m\u001B[43mget\u001B[49m\u001B[43m(\u001B[49m\u001B[38;5;124;43m\"\u001B[39;49m\u001B[38;5;124;43mmemory_map\u001B[39;49m\u001B[38;5;124;43m\"\u001B[39;49m\u001B[43m,\u001B[49m\u001B[43m \u001B[49m\u001B[38;5;28;43;01mFalse\u001B[39;49;00m\u001B[43m)\u001B[49m\u001B[43m,\u001B[49m\n\u001B[1;32m   1886\u001B[0m \u001B[43m    \u001B[49m\u001B[43mis_text\u001B[49m\u001B[38;5;241;43m=\u001B[39;49m\u001B[43mis_text\u001B[49m\u001B[43m,\u001B[49m\n\u001B[1;32m   1887\u001B[0m \u001B[43m    \u001B[49m\u001B[43merrors\u001B[49m\u001B[38;5;241;43m=\u001B[39;49m\u001B[38;5;28;43mself\u001B[39;49m\u001B[38;5;241;43m.\u001B[39;49m\u001B[43moptions\u001B[49m\u001B[38;5;241;43m.\u001B[39;49m\u001B[43mget\u001B[49m\u001B[43m(\u001B[49m\u001B[38;5;124;43m\"\u001B[39;49m\u001B[38;5;124;43mencoding_errors\u001B[39;49m\u001B[38;5;124;43m\"\u001B[39;49m\u001B[43m,\u001B[49m\u001B[43m \u001B[49m\u001B[38;5;124;43m\"\u001B[39;49m\u001B[38;5;124;43mstrict\u001B[39;49m\u001B[38;5;124;43m\"\u001B[39;49m\u001B[43m)\u001B[49m\u001B[43m,\u001B[49m\n\u001B[1;32m   1888\u001B[0m \u001B[43m    \u001B[49m\u001B[43mstorage_options\u001B[49m\u001B[38;5;241;43m=\u001B[39;49m\u001B[38;5;28;43mself\u001B[39;49m\u001B[38;5;241;43m.\u001B[39;49m\u001B[43moptions\u001B[49m\u001B[38;5;241;43m.\u001B[39;49m\u001B[43mget\u001B[49m\u001B[43m(\u001B[49m\u001B[38;5;124;43m\"\u001B[39;49m\u001B[38;5;124;43mstorage_options\u001B[39;49m\u001B[38;5;124;43m\"\u001B[39;49m\u001B[43m,\u001B[49m\u001B[43m \u001B[49m\u001B[38;5;28;43;01mNone\u001B[39;49;00m\u001B[43m)\u001B[49m\u001B[43m,\u001B[49m\n\u001B[1;32m   1889\u001B[0m \u001B[43m\u001B[49m\u001B[43m)\u001B[49m\n\u001B[1;32m   1890\u001B[0m \u001B[38;5;28;01massert\u001B[39;00m \u001B[38;5;28mself\u001B[39m\u001B[38;5;241m.\u001B[39mhandles \u001B[38;5;129;01mis\u001B[39;00m \u001B[38;5;129;01mnot\u001B[39;00m \u001B[38;5;28;01mNone\u001B[39;00m\n\u001B[1;32m   1891\u001B[0m f \u001B[38;5;241m=\u001B[39m \u001B[38;5;28mself\u001B[39m\u001B[38;5;241m.\u001B[39mhandles\u001B[38;5;241m.\u001B[39mhandle\n",
      "File \u001B[0;32m~/Documents/EXPE_2024/EXPE42_EVALUATION_ELTeC-fra_09072024/.venv/lib64/python3.10/site-packages/pandas/io/common.py:873\u001B[0m, in \u001B[0;36mget_handle\u001B[0;34m(path_or_buf, mode, encoding, compression, memory_map, is_text, errors, storage_options)\u001B[0m\n\u001B[1;32m    868\u001B[0m \u001B[38;5;28;01melif\u001B[39;00m \u001B[38;5;28misinstance\u001B[39m(handle, \u001B[38;5;28mstr\u001B[39m):\n\u001B[1;32m    869\u001B[0m     \u001B[38;5;66;03m# Check whether the filename is to be opened in binary mode.\u001B[39;00m\n\u001B[1;32m    870\u001B[0m     \u001B[38;5;66;03m# Binary mode does not support 'encoding' and 'newline'.\u001B[39;00m\n\u001B[1;32m    871\u001B[0m     \u001B[38;5;28;01mif\u001B[39;00m ioargs\u001B[38;5;241m.\u001B[39mencoding \u001B[38;5;129;01mand\u001B[39;00m \u001B[38;5;124m\"\u001B[39m\u001B[38;5;124mb\u001B[39m\u001B[38;5;124m\"\u001B[39m \u001B[38;5;129;01mnot\u001B[39;00m \u001B[38;5;129;01min\u001B[39;00m ioargs\u001B[38;5;241m.\u001B[39mmode:\n\u001B[1;32m    872\u001B[0m         \u001B[38;5;66;03m# Encoding\u001B[39;00m\n\u001B[0;32m--> 873\u001B[0m         handle \u001B[38;5;241m=\u001B[39m \u001B[38;5;28;43mopen\u001B[39;49m\u001B[43m(\u001B[49m\n\u001B[1;32m    874\u001B[0m \u001B[43m            \u001B[49m\u001B[43mhandle\u001B[49m\u001B[43m,\u001B[49m\n\u001B[1;32m    875\u001B[0m \u001B[43m            \u001B[49m\u001B[43mioargs\u001B[49m\u001B[38;5;241;43m.\u001B[39;49m\u001B[43mmode\u001B[49m\u001B[43m,\u001B[49m\n\u001B[1;32m    876\u001B[0m \u001B[43m            \u001B[49m\u001B[43mencoding\u001B[49m\u001B[38;5;241;43m=\u001B[39;49m\u001B[43mioargs\u001B[49m\u001B[38;5;241;43m.\u001B[39;49m\u001B[43mencoding\u001B[49m\u001B[43m,\u001B[49m\n\u001B[1;32m    877\u001B[0m \u001B[43m            \u001B[49m\u001B[43merrors\u001B[49m\u001B[38;5;241;43m=\u001B[39;49m\u001B[43merrors\u001B[49m\u001B[43m,\u001B[49m\n\u001B[1;32m    878\u001B[0m \u001B[43m            \u001B[49m\u001B[43mnewline\u001B[49m\u001B[38;5;241;43m=\u001B[39;49m\u001B[38;5;124;43m\"\u001B[39;49m\u001B[38;5;124;43m\"\u001B[39;49m\u001B[43m,\u001B[49m\n\u001B[1;32m    879\u001B[0m \u001B[43m        \u001B[49m\u001B[43m)\u001B[49m\n\u001B[1;32m    880\u001B[0m     \u001B[38;5;28;01melse\u001B[39;00m:\n\u001B[1;32m    881\u001B[0m         \u001B[38;5;66;03m# Binary mode\u001B[39;00m\n\u001B[1;32m    882\u001B[0m         handle \u001B[38;5;241m=\u001B[39m \u001B[38;5;28mopen\u001B[39m(handle, ioargs\u001B[38;5;241m.\u001B[39mmode)\n",
      "\u001B[0;31mFileNotFoundError\u001B[0m: [Errno 2] No such file or directory: '../ANNOTATION_TRANSFORMED_AIA_ARCHI/DAUDET/CF_DAUDET/CF_DAUDET_petit-chose_REF_spaCy3.7.2-lg.csv.aia.csv'"
     ]
    }
   ],
   "execution_count": 3
  },
  {
   "cell_type": "code",
   "id": "258fa81c-0205-414f-b755-f92ec8ac9f55",
   "metadata": {
    "ExecuteTime": {
     "end_time": "2024-10-26T06:08:40.725659Z",
     "start_time": "2024-10-26T06:08:40.589179Z"
    }
   },
   "source": [
    "import pandas as pd\n",
    "from  nltk.metrics import agreement\n",
    "\n",
    "# Assume this CSV has the format <tweet_id>,<label>\n",
    "# anno1_df = pd.read_csv(\"../ANNOTATION_TRANSFORMED_AIA_ARCHI/CARRAUD/CF_CARRAUD/CF_CARRAUD_petite-Jeanne_Kraken-base_spaCy3.7.2-lg.csv.aia.csv\",sep=\";\", on_bad_lines='skip')\n",
    "# anno1_df = pd.read_csv(\"../ANNOTATION_TRANSFORMED_AIA_ARCHI/CARRAUD/CF_CARRAUD/CF_CARRAUD_petite-Jeanne_REF_spaCy3.7.2-lg.csv.aia.csv\",sep=\";\", on_bad_lines='skip')\n",
    "anno1_df = pd.read_csv(\"../ANNOTATION_TRANSFORMED_AIA/CARRAUD/CF_CARRAUD/CF_CARRAUD_petite-Jeanne_TesseractFra-PNG_spaCy3.7.2-lg.csv.aia.csv\",sep=\";\", on_bad_lines='skip')\n",
    "anno1_df.columns = [\"Token_1\",\"Label_1\"]\n",
    "# print(\"pendant\",anno1_df)\n",
    "anno1_df=anno1_df.iloc[:6500]\n",
    "print(\"pendant\",anno1_df)\n",
    "\n",
    "\n",
    "# Assume this CSV has the format <tweet_id>,<label>\n",
    "# anno2_df = pd.read_csv(\"../ANNOTATION_TRANSFORMED_AIA_ARCHI/CARRAUD/LM_CARRAUD/LM_CARRAUD_petite-Jeanne_Kraken-base_spaCy3.7.2-lg.csv.aia.csv\",sep=\";\",on_bad_lines='skip')\n",
    "# anno2_df = pd.read_csv(\"../ANNOTATION_TRANSFORMED_AIA_ARCHI/CARRAUD/LM_CARRAUD/LM_CARRAUD_petite-Jeanne_REF_spaCy3.7.2-lg.csv.aia.csv\",sep=\";\",on_bad_lines='skip')\n",
    "anno2_df = pd.read_csv(\"../ANNOTATION_TRANSFORMED_AIA/CARRAUD/LM_CARRAUD/LM_CARRAUD_petite-Jeanne_TesseractFra-PNG_spaCy3.7.2-lg.csv.aia.csv\",sep=\";\",on_bad_lines='skip')\n",
    "\n",
    "anno2_df.columns = [\"Token_2\",\"Label_2\"]\n",
    "anno2_df=anno2_df.iloc[:6500]\n",
    "\n",
    "# Assume this CSV has the format <tweet_id>,<label>\n",
    "# anno3_df = pd.read_csv(\"../ANNOTATION_TRANSFORMED_AIA_ARCHI/CARRAUD/MB_CARRAUD/MB_CARRAUD_petite-Jeanne_Kraken-base_spaCy3.7.2-lg.csv.aia.csv\",sep=\";\",on_bad_lines='skip')\n",
    "# anno3_df = pd.read_csv(\"../ANNOTATION_TRANSFORMED_AIA_ARCHI/CARRAUD/MB_CARRAUD/MB_CARRAUD_petite-Jeanne_REF_spaCy3.7.2-lg.csv.aia.csv\",sep=\";\",on_bad_lines='skip')\n",
    "anno3_df = pd.read_csv(\"../ANNOTATION_TRANSFORMED_AIA/CARRAUD/MB_CARRAUD/MB_CARRAUD_petite-Jeanne_TesseractFra-PNG_spaCy3.7.2-lg.csv.aia.csv\",sep=\";\",on_bad_lines='skip')\n",
    "anno3_df.columns = [\"Token_3\",\"Label_3\"]\n",
    "anno3_df=anno3_df.iloc[:6500]\n",
    "\n",
    "# Join so we have a data frame of labels for each tweet ID\n",
    "# merged_df = anno1_df.join(anno2_df.join(anno3_df))\n",
    "merged_df = anno2_df.join(anno3_df)\n",
    "\n",
    "# We can drop rows where we don't have two labelers if we want\n",
    "#. I think Krippendorf can account for missing data though, so this\n",
    "#. step isn't strictly necessary if you only care about Krippendorf\n",
    "labels_matched_df = merged_df.dropna()\n",
    "print(\"labels_matched_df\",labels_matched_df)\n",
    "# Reformat the data into the form AnnotationTask\n",
    "#  expects.\n",
    "data = []\n",
    "for idx, row in labels_matched_df.iterrows():\n",
    "    data.append((\"a1\", idx, row[\"Label_1\"]))\n",
    "    data.append((\"a2\", idx, row[\"Label_2\"]))\n",
    "    data.append((\"a3\", idx, row[\"Label_3\"]))\n",
    "print(\"-----------------------------------------------------\",data)\n",
    "    \n",
    "atask = agreement.AnnotationTask(data=data)\n",
    "\n",
    "print(\"Cohen's Kappa:\", atask.kappa())\n",
    "print(\"Fleiss's Kappa:\", atask.multi_kappa())\n",
    "\n",
    "# This function maps labels into a numeric space,\n",
    "#. so we can rely on the ordering of labels.\n",
    "def priority_distance(left_label, right_label):\n",
    "    mapped_labels = {\n",
    "        \"Critical\": 4,\n",
    "        \"High\": 3,\n",
    "        \"Medium\": 2,\n",
    "        \"Low\": 1,\n",
    "    }\n",
    "    left_i = mapped_labels[left_label]\n",
    "    right_i = mapped_labels[right_label]\n",
    "    \n",
    "    return abs(left_i - right_i)\n",
    "\n",
    "# Create a new annotation task with the distance function\n",
    "# atask_2 = agreement.AnnotationTask(data=data, distance=priority_distance)\n",
    "atask_2 = agreement.AnnotationTask(data=data)\n",
    "print(\"Krippendorf's Alpha:\", atask_2.alpha())"
   ],
   "outputs": [
    {
     "name": "stdout",
     "output_type": "stream",
     "text": [
      "pendant       Token_1 Label_1\n",
      "0      PETITE     PER\n",
      "1      JEANNE     PER\n",
      "2        \\n\\n     NaN\n",
      "3          LE     NaN\n",
      "4      DEVOIR     NaN\n",
      "...       ...     ...\n",
      "6495      pas     NaN\n",
      "6496        à     NaN\n",
      "6497       sa     NaN\n",
      "6498  portion     NaN\n",
      "6499       de     NaN\n",
      "\n",
      "[6500 rows x 2 columns]\n",
      "labels_matched_df        Token_2 Label_2   Token_3 Label_3\n",
      "1       JEANNE     PER    JEANNE     PER\n",
      "16      JEANNE     PER    JEANNE     PER\n",
      "19          La     PER        La     PER\n",
      "20        mère     PER      mère     PER\n",
      "21    Nannette     PER  Nannette     PER\n",
      "...        ...     ...       ...     ...\n",
      "6380    Jeanne     PER    Jeanne     PER\n",
      "6476    Jeanne     PER    Jeanne     PER\n",
      "6483       Mme     PER       Mme     PER\n",
      "6484    Dümont     PER    Dümont     PER\n",
      "6488    Jeanne     PER    Jeanne     PER\n",
      "\n",
      "[309 rows x 4 columns]\n"
     ]
    },
    {
     "ename": "KeyError",
     "evalue": "'Label_1'",
     "output_type": "error",
     "traceback": [
      "\u001B[0;31m---------------------------------------------------------------------------\u001B[0m",
      "\u001B[0;31mKeyError\u001B[0m                                  Traceback (most recent call last)",
      "File \u001B[0;32m~/Documents/EXPE_2024/EXPE42_EVALUATION_ELTeC-fra_09072024/.venv/lib64/python3.10/site-packages/pandas/core/indexes/base.py:3805\u001B[0m, in \u001B[0;36mIndex.get_loc\u001B[0;34m(self, key)\u001B[0m\n\u001B[1;32m   3804\u001B[0m \u001B[38;5;28;01mtry\u001B[39;00m:\n\u001B[0;32m-> 3805\u001B[0m     \u001B[38;5;28;01mreturn\u001B[39;00m \u001B[38;5;28;43mself\u001B[39;49m\u001B[38;5;241;43m.\u001B[39;49m\u001B[43m_engine\u001B[49m\u001B[38;5;241;43m.\u001B[39;49m\u001B[43mget_loc\u001B[49m\u001B[43m(\u001B[49m\u001B[43mcasted_key\u001B[49m\u001B[43m)\u001B[49m\n\u001B[1;32m   3806\u001B[0m \u001B[38;5;28;01mexcept\u001B[39;00m \u001B[38;5;167;01mKeyError\u001B[39;00m \u001B[38;5;28;01mas\u001B[39;00m err:\n",
      "File \u001B[0;32mindex.pyx:167\u001B[0m, in \u001B[0;36mpandas._libs.index.IndexEngine.get_loc\u001B[0;34m()\u001B[0m\n",
      "File \u001B[0;32mindex.pyx:196\u001B[0m, in \u001B[0;36mpandas._libs.index.IndexEngine.get_loc\u001B[0;34m()\u001B[0m\n",
      "File \u001B[0;32mpandas/_libs/hashtable_class_helper.pxi:7081\u001B[0m, in \u001B[0;36mpandas._libs.hashtable.PyObjectHashTable.get_item\u001B[0;34m()\u001B[0m\n",
      "File \u001B[0;32mpandas/_libs/hashtable_class_helper.pxi:7089\u001B[0m, in \u001B[0;36mpandas._libs.hashtable.PyObjectHashTable.get_item\u001B[0;34m()\u001B[0m\n",
      "\u001B[0;31mKeyError\u001B[0m: 'Label_1'",
      "\nThe above exception was the direct cause of the following exception:\n",
      "\u001B[0;31mKeyError\u001B[0m                                  Traceback (most recent call last)",
      "Cell \u001B[0;32mIn[8], line 42\u001B[0m\n\u001B[1;32m     40\u001B[0m data \u001B[38;5;241m=\u001B[39m []\n\u001B[1;32m     41\u001B[0m \u001B[38;5;28;01mfor\u001B[39;00m idx, row \u001B[38;5;129;01min\u001B[39;00m labels_matched_df\u001B[38;5;241m.\u001B[39miterrows():\n\u001B[0;32m---> 42\u001B[0m     data\u001B[38;5;241m.\u001B[39mappend((\u001B[38;5;124m\"\u001B[39m\u001B[38;5;124ma1\u001B[39m\u001B[38;5;124m\"\u001B[39m, idx, \u001B[43mrow\u001B[49m\u001B[43m[\u001B[49m\u001B[38;5;124;43m\"\u001B[39;49m\u001B[38;5;124;43mLabel_1\u001B[39;49m\u001B[38;5;124;43m\"\u001B[39;49m\u001B[43m]\u001B[49m))\n\u001B[1;32m     43\u001B[0m     data\u001B[38;5;241m.\u001B[39mappend((\u001B[38;5;124m\"\u001B[39m\u001B[38;5;124ma2\u001B[39m\u001B[38;5;124m\"\u001B[39m, idx, row[\u001B[38;5;124m\"\u001B[39m\u001B[38;5;124mLabel_2\u001B[39m\u001B[38;5;124m\"\u001B[39m]))\n\u001B[1;32m     44\u001B[0m     data\u001B[38;5;241m.\u001B[39mappend((\u001B[38;5;124m\"\u001B[39m\u001B[38;5;124ma3\u001B[39m\u001B[38;5;124m\"\u001B[39m, idx, row[\u001B[38;5;124m\"\u001B[39m\u001B[38;5;124mLabel_3\u001B[39m\u001B[38;5;124m\"\u001B[39m]))\n",
      "File \u001B[0;32m~/Documents/EXPE_2024/EXPE42_EVALUATION_ELTeC-fra_09072024/.venv/lib64/python3.10/site-packages/pandas/core/series.py:1121\u001B[0m, in \u001B[0;36mSeries.__getitem__\u001B[0;34m(self, key)\u001B[0m\n\u001B[1;32m   1118\u001B[0m     \u001B[38;5;28;01mreturn\u001B[39;00m \u001B[38;5;28mself\u001B[39m\u001B[38;5;241m.\u001B[39m_values[key]\n\u001B[1;32m   1120\u001B[0m \u001B[38;5;28;01melif\u001B[39;00m key_is_scalar:\n\u001B[0;32m-> 1121\u001B[0m     \u001B[38;5;28;01mreturn\u001B[39;00m \u001B[38;5;28;43mself\u001B[39;49m\u001B[38;5;241;43m.\u001B[39;49m\u001B[43m_get_value\u001B[49m\u001B[43m(\u001B[49m\u001B[43mkey\u001B[49m\u001B[43m)\u001B[49m\n\u001B[1;32m   1123\u001B[0m \u001B[38;5;66;03m# Convert generator to list before going through hashable part\u001B[39;00m\n\u001B[1;32m   1124\u001B[0m \u001B[38;5;66;03m# (We will iterate through the generator there to check for slices)\u001B[39;00m\n\u001B[1;32m   1125\u001B[0m \u001B[38;5;28;01mif\u001B[39;00m is_iterator(key):\n",
      "File \u001B[0;32m~/Documents/EXPE_2024/EXPE42_EVALUATION_ELTeC-fra_09072024/.venv/lib64/python3.10/site-packages/pandas/core/series.py:1237\u001B[0m, in \u001B[0;36mSeries._get_value\u001B[0;34m(self, label, takeable)\u001B[0m\n\u001B[1;32m   1234\u001B[0m     \u001B[38;5;28;01mreturn\u001B[39;00m \u001B[38;5;28mself\u001B[39m\u001B[38;5;241m.\u001B[39m_values[label]\n\u001B[1;32m   1236\u001B[0m \u001B[38;5;66;03m# Similar to Index.get_value, but we do not fall back to positional\u001B[39;00m\n\u001B[0;32m-> 1237\u001B[0m loc \u001B[38;5;241m=\u001B[39m \u001B[38;5;28;43mself\u001B[39;49m\u001B[38;5;241;43m.\u001B[39;49m\u001B[43mindex\u001B[49m\u001B[38;5;241;43m.\u001B[39;49m\u001B[43mget_loc\u001B[49m\u001B[43m(\u001B[49m\u001B[43mlabel\u001B[49m\u001B[43m)\u001B[49m\n\u001B[1;32m   1239\u001B[0m \u001B[38;5;28;01mif\u001B[39;00m is_integer(loc):\n\u001B[1;32m   1240\u001B[0m     \u001B[38;5;28;01mreturn\u001B[39;00m \u001B[38;5;28mself\u001B[39m\u001B[38;5;241m.\u001B[39m_values[loc]\n",
      "File \u001B[0;32m~/Documents/EXPE_2024/EXPE42_EVALUATION_ELTeC-fra_09072024/.venv/lib64/python3.10/site-packages/pandas/core/indexes/base.py:3812\u001B[0m, in \u001B[0;36mIndex.get_loc\u001B[0;34m(self, key)\u001B[0m\n\u001B[1;32m   3807\u001B[0m     \u001B[38;5;28;01mif\u001B[39;00m \u001B[38;5;28misinstance\u001B[39m(casted_key, \u001B[38;5;28mslice\u001B[39m) \u001B[38;5;129;01mor\u001B[39;00m (\n\u001B[1;32m   3808\u001B[0m         \u001B[38;5;28misinstance\u001B[39m(casted_key, abc\u001B[38;5;241m.\u001B[39mIterable)\n\u001B[1;32m   3809\u001B[0m         \u001B[38;5;129;01mand\u001B[39;00m \u001B[38;5;28many\u001B[39m(\u001B[38;5;28misinstance\u001B[39m(x, \u001B[38;5;28mslice\u001B[39m) \u001B[38;5;28;01mfor\u001B[39;00m x \u001B[38;5;129;01min\u001B[39;00m casted_key)\n\u001B[1;32m   3810\u001B[0m     ):\n\u001B[1;32m   3811\u001B[0m         \u001B[38;5;28;01mraise\u001B[39;00m InvalidIndexError(key)\n\u001B[0;32m-> 3812\u001B[0m     \u001B[38;5;28;01mraise\u001B[39;00m \u001B[38;5;167;01mKeyError\u001B[39;00m(key) \u001B[38;5;28;01mfrom\u001B[39;00m \u001B[38;5;21;01merr\u001B[39;00m\n\u001B[1;32m   3813\u001B[0m \u001B[38;5;28;01mexcept\u001B[39;00m \u001B[38;5;167;01mTypeError\u001B[39;00m:\n\u001B[1;32m   3814\u001B[0m     \u001B[38;5;66;03m# If we have a listlike key, _check_indexing_error will raise\u001B[39;00m\n\u001B[1;32m   3815\u001B[0m     \u001B[38;5;66;03m#  InvalidIndexError. Otherwise we fall through and re-raise\u001B[39;00m\n\u001B[1;32m   3816\u001B[0m     \u001B[38;5;66;03m#  the TypeError.\u001B[39;00m\n\u001B[1;32m   3817\u001B[0m     \u001B[38;5;28mself\u001B[39m\u001B[38;5;241m.\u001B[39m_check_indexing_error(key)\n",
      "\u001B[0;31mKeyError\u001B[0m: 'Label_1'"
     ]
    }
   ],
   "execution_count": 8
  },
  {
   "cell_type": "code",
   "id": "b1db82e6-9426-4196-af22-1889cd6b8cfc",
   "metadata": {
    "ExecuteTime": {
     "end_time": "2024-10-26T06:08:50.928530Z",
     "start_time": "2024-10-26T06:08:50.807373Z"
    }
   },
   "source": [
    "from sklearn.metrics import cohen_kappa_score\n",
    "\n",
    "import pandas as pd\n",
    "\n",
    "\n",
    "# Assume this CSV has the format <tweet_id>,<label>\n",
    "anno1_df = pd.read_csv(\"../ANNOTATION_TRANSFORMED_AIA_ARCHI/DAUDET/CF_DAUDET/CF_DAUDET_petit-chose_Kraken-base_spaCy3.7.2-lg.csv.aia.csv\",sep=\";\", on_bad_lines='skip')\n",
    "anno1_df.columns = [\"Token_1\",\"Label_1\"]\n",
    "# print(\"pendant\",anno1_df)\n",
    "anno1_df=anno1_df.iloc[:6500]\n",
    "print(\"pendant\",anno1_df)\n",
    "\n",
    "\n",
    "# Assume this CSV has the format <tweet_id>,<label>\n",
    "anno2_df = pd.read_csv(\"../ANNOTATION_TRANSFORMED_AIA_ARCHI/DAUDET/LM_DAUDET/LM_DAUDET_petit-chose_Kraken-base_spaCy3.7.2-lg.csv.aia.csv\",sep=\";\",on_bad_lines='skip')\n",
    "anno2_df.columns = [\"Token_2\",\"Label_2\"]\n",
    "anno2_df=anno2_df.iloc[:6500]\n",
    "\n",
    "print(cohen_kappa_score(anno1_df, anno2_df, labels=None))"
   ],
   "outputs": [
    {
     "ename": "FileNotFoundError",
     "evalue": "[Errno 2] No such file or directory: '../ANNOTATION_TRANSFORMED_AIA_ARCHI/DAUDET/CF_DAUDET/CF_DAUDET_petit-chose_Kraken-base_spaCy3.7.2-lg.csv.aia.csv'",
     "output_type": "error",
     "traceback": [
      "\u001B[0;31m---------------------------------------------------------------------------\u001B[0m",
      "\u001B[0;31mFileNotFoundError\u001B[0m                         Traceback (most recent call last)",
      "Cell \u001B[0;32mIn[9], line 7\u001B[0m\n\u001B[1;32m      3\u001B[0m \u001B[38;5;28;01mimport\u001B[39;00m \u001B[38;5;21;01mpandas\u001B[39;00m \u001B[38;5;28;01mas\u001B[39;00m \u001B[38;5;21;01mpd\u001B[39;00m\n\u001B[1;32m      6\u001B[0m \u001B[38;5;66;03m# Assume this CSV has the format <tweet_id>,<label>\u001B[39;00m\n\u001B[0;32m----> 7\u001B[0m anno1_df \u001B[38;5;241m=\u001B[39m \u001B[43mpd\u001B[49m\u001B[38;5;241;43m.\u001B[39;49m\u001B[43mread_csv\u001B[49m\u001B[43m(\u001B[49m\u001B[38;5;124;43m\"\u001B[39;49m\u001B[38;5;124;43m../ANNOTATION_TRANSFORMED_AIA_ARCHI/DAUDET/CF_DAUDET/CF_DAUDET_petit-chose_Kraken-base_spaCy3.7.2-lg.csv.aia.csv\u001B[39;49m\u001B[38;5;124;43m\"\u001B[39;49m\u001B[43m,\u001B[49m\u001B[43msep\u001B[49m\u001B[38;5;241;43m=\u001B[39;49m\u001B[38;5;124;43m\"\u001B[39;49m\u001B[38;5;124;43m;\u001B[39;49m\u001B[38;5;124;43m\"\u001B[39;49m\u001B[43m,\u001B[49m\u001B[43m \u001B[49m\u001B[43mon_bad_lines\u001B[49m\u001B[38;5;241;43m=\u001B[39;49m\u001B[38;5;124;43m'\u001B[39;49m\u001B[38;5;124;43mskip\u001B[39;49m\u001B[38;5;124;43m'\u001B[39;49m\u001B[43m)\u001B[49m\n\u001B[1;32m      8\u001B[0m anno1_df\u001B[38;5;241m.\u001B[39mcolumns \u001B[38;5;241m=\u001B[39m [\u001B[38;5;124m\"\u001B[39m\u001B[38;5;124mToken_1\u001B[39m\u001B[38;5;124m\"\u001B[39m,\u001B[38;5;124m\"\u001B[39m\u001B[38;5;124mLabel_1\u001B[39m\u001B[38;5;124m\"\u001B[39m]\n\u001B[1;32m      9\u001B[0m \u001B[38;5;66;03m# print(\"pendant\",anno1_df)\u001B[39;00m\n",
      "File \u001B[0;32m~/Documents/EXPE_2024/EXPE42_EVALUATION_ELTeC-fra_09072024/.venv/lib64/python3.10/site-packages/pandas/io/parsers/readers.py:1026\u001B[0m, in \u001B[0;36mread_csv\u001B[0;34m(filepath_or_buffer, sep, delimiter, header, names, index_col, usecols, dtype, engine, converters, true_values, false_values, skipinitialspace, skiprows, skipfooter, nrows, na_values, keep_default_na, na_filter, verbose, skip_blank_lines, parse_dates, infer_datetime_format, keep_date_col, date_parser, date_format, dayfirst, cache_dates, iterator, chunksize, compression, thousands, decimal, lineterminator, quotechar, quoting, doublequote, escapechar, comment, encoding, encoding_errors, dialect, on_bad_lines, delim_whitespace, low_memory, memory_map, float_precision, storage_options, dtype_backend)\u001B[0m\n\u001B[1;32m   1013\u001B[0m kwds_defaults \u001B[38;5;241m=\u001B[39m _refine_defaults_read(\n\u001B[1;32m   1014\u001B[0m     dialect,\n\u001B[1;32m   1015\u001B[0m     delimiter,\n\u001B[0;32m   (...)\u001B[0m\n\u001B[1;32m   1022\u001B[0m     dtype_backend\u001B[38;5;241m=\u001B[39mdtype_backend,\n\u001B[1;32m   1023\u001B[0m )\n\u001B[1;32m   1024\u001B[0m kwds\u001B[38;5;241m.\u001B[39mupdate(kwds_defaults)\n\u001B[0;32m-> 1026\u001B[0m \u001B[38;5;28;01mreturn\u001B[39;00m \u001B[43m_read\u001B[49m\u001B[43m(\u001B[49m\u001B[43mfilepath_or_buffer\u001B[49m\u001B[43m,\u001B[49m\u001B[43m \u001B[49m\u001B[43mkwds\u001B[49m\u001B[43m)\u001B[49m\n",
      "File \u001B[0;32m~/Documents/EXPE_2024/EXPE42_EVALUATION_ELTeC-fra_09072024/.venv/lib64/python3.10/site-packages/pandas/io/parsers/readers.py:620\u001B[0m, in \u001B[0;36m_read\u001B[0;34m(filepath_or_buffer, kwds)\u001B[0m\n\u001B[1;32m    617\u001B[0m _validate_names(kwds\u001B[38;5;241m.\u001B[39mget(\u001B[38;5;124m\"\u001B[39m\u001B[38;5;124mnames\u001B[39m\u001B[38;5;124m\"\u001B[39m, \u001B[38;5;28;01mNone\u001B[39;00m))\n\u001B[1;32m    619\u001B[0m \u001B[38;5;66;03m# Create the parser.\u001B[39;00m\n\u001B[0;32m--> 620\u001B[0m parser \u001B[38;5;241m=\u001B[39m \u001B[43mTextFileReader\u001B[49m\u001B[43m(\u001B[49m\u001B[43mfilepath_or_buffer\u001B[49m\u001B[43m,\u001B[49m\u001B[43m \u001B[49m\u001B[38;5;241;43m*\u001B[39;49m\u001B[38;5;241;43m*\u001B[39;49m\u001B[43mkwds\u001B[49m\u001B[43m)\u001B[49m\n\u001B[1;32m    622\u001B[0m \u001B[38;5;28;01mif\u001B[39;00m chunksize \u001B[38;5;129;01mor\u001B[39;00m iterator:\n\u001B[1;32m    623\u001B[0m     \u001B[38;5;28;01mreturn\u001B[39;00m parser\n",
      "File \u001B[0;32m~/Documents/EXPE_2024/EXPE42_EVALUATION_ELTeC-fra_09072024/.venv/lib64/python3.10/site-packages/pandas/io/parsers/readers.py:1620\u001B[0m, in \u001B[0;36mTextFileReader.__init__\u001B[0;34m(self, f, engine, **kwds)\u001B[0m\n\u001B[1;32m   1617\u001B[0m     \u001B[38;5;28mself\u001B[39m\u001B[38;5;241m.\u001B[39moptions[\u001B[38;5;124m\"\u001B[39m\u001B[38;5;124mhas_index_names\u001B[39m\u001B[38;5;124m\"\u001B[39m] \u001B[38;5;241m=\u001B[39m kwds[\u001B[38;5;124m\"\u001B[39m\u001B[38;5;124mhas_index_names\u001B[39m\u001B[38;5;124m\"\u001B[39m]\n\u001B[1;32m   1619\u001B[0m \u001B[38;5;28mself\u001B[39m\u001B[38;5;241m.\u001B[39mhandles: IOHandles \u001B[38;5;241m|\u001B[39m \u001B[38;5;28;01mNone\u001B[39;00m \u001B[38;5;241m=\u001B[39m \u001B[38;5;28;01mNone\u001B[39;00m\n\u001B[0;32m-> 1620\u001B[0m \u001B[38;5;28mself\u001B[39m\u001B[38;5;241m.\u001B[39m_engine \u001B[38;5;241m=\u001B[39m \u001B[38;5;28;43mself\u001B[39;49m\u001B[38;5;241;43m.\u001B[39;49m\u001B[43m_make_engine\u001B[49m\u001B[43m(\u001B[49m\u001B[43mf\u001B[49m\u001B[43m,\u001B[49m\u001B[43m \u001B[49m\u001B[38;5;28;43mself\u001B[39;49m\u001B[38;5;241;43m.\u001B[39;49m\u001B[43mengine\u001B[49m\u001B[43m)\u001B[49m\n",
      "File \u001B[0;32m~/Documents/EXPE_2024/EXPE42_EVALUATION_ELTeC-fra_09072024/.venv/lib64/python3.10/site-packages/pandas/io/parsers/readers.py:1880\u001B[0m, in \u001B[0;36mTextFileReader._make_engine\u001B[0;34m(self, f, engine)\u001B[0m\n\u001B[1;32m   1878\u001B[0m     \u001B[38;5;28;01mif\u001B[39;00m \u001B[38;5;124m\"\u001B[39m\u001B[38;5;124mb\u001B[39m\u001B[38;5;124m\"\u001B[39m \u001B[38;5;129;01mnot\u001B[39;00m \u001B[38;5;129;01min\u001B[39;00m mode:\n\u001B[1;32m   1879\u001B[0m         mode \u001B[38;5;241m+\u001B[39m\u001B[38;5;241m=\u001B[39m \u001B[38;5;124m\"\u001B[39m\u001B[38;5;124mb\u001B[39m\u001B[38;5;124m\"\u001B[39m\n\u001B[0;32m-> 1880\u001B[0m \u001B[38;5;28mself\u001B[39m\u001B[38;5;241m.\u001B[39mhandles \u001B[38;5;241m=\u001B[39m \u001B[43mget_handle\u001B[49m\u001B[43m(\u001B[49m\n\u001B[1;32m   1881\u001B[0m \u001B[43m    \u001B[49m\u001B[43mf\u001B[49m\u001B[43m,\u001B[49m\n\u001B[1;32m   1882\u001B[0m \u001B[43m    \u001B[49m\u001B[43mmode\u001B[49m\u001B[43m,\u001B[49m\n\u001B[1;32m   1883\u001B[0m \u001B[43m    \u001B[49m\u001B[43mencoding\u001B[49m\u001B[38;5;241;43m=\u001B[39;49m\u001B[38;5;28;43mself\u001B[39;49m\u001B[38;5;241;43m.\u001B[39;49m\u001B[43moptions\u001B[49m\u001B[38;5;241;43m.\u001B[39;49m\u001B[43mget\u001B[49m\u001B[43m(\u001B[49m\u001B[38;5;124;43m\"\u001B[39;49m\u001B[38;5;124;43mencoding\u001B[39;49m\u001B[38;5;124;43m\"\u001B[39;49m\u001B[43m,\u001B[49m\u001B[43m \u001B[49m\u001B[38;5;28;43;01mNone\u001B[39;49;00m\u001B[43m)\u001B[49m\u001B[43m,\u001B[49m\n\u001B[1;32m   1884\u001B[0m \u001B[43m    \u001B[49m\u001B[43mcompression\u001B[49m\u001B[38;5;241;43m=\u001B[39;49m\u001B[38;5;28;43mself\u001B[39;49m\u001B[38;5;241;43m.\u001B[39;49m\u001B[43moptions\u001B[49m\u001B[38;5;241;43m.\u001B[39;49m\u001B[43mget\u001B[49m\u001B[43m(\u001B[49m\u001B[38;5;124;43m\"\u001B[39;49m\u001B[38;5;124;43mcompression\u001B[39;49m\u001B[38;5;124;43m\"\u001B[39;49m\u001B[43m,\u001B[49m\u001B[43m \u001B[49m\u001B[38;5;28;43;01mNone\u001B[39;49;00m\u001B[43m)\u001B[49m\u001B[43m,\u001B[49m\n\u001B[1;32m   1885\u001B[0m \u001B[43m    \u001B[49m\u001B[43mmemory_map\u001B[49m\u001B[38;5;241;43m=\u001B[39;49m\u001B[38;5;28;43mself\u001B[39;49m\u001B[38;5;241;43m.\u001B[39;49m\u001B[43moptions\u001B[49m\u001B[38;5;241;43m.\u001B[39;49m\u001B[43mget\u001B[49m\u001B[43m(\u001B[49m\u001B[38;5;124;43m\"\u001B[39;49m\u001B[38;5;124;43mmemory_map\u001B[39;49m\u001B[38;5;124;43m\"\u001B[39;49m\u001B[43m,\u001B[49m\u001B[43m \u001B[49m\u001B[38;5;28;43;01mFalse\u001B[39;49;00m\u001B[43m)\u001B[49m\u001B[43m,\u001B[49m\n\u001B[1;32m   1886\u001B[0m \u001B[43m    \u001B[49m\u001B[43mis_text\u001B[49m\u001B[38;5;241;43m=\u001B[39;49m\u001B[43mis_text\u001B[49m\u001B[43m,\u001B[49m\n\u001B[1;32m   1887\u001B[0m \u001B[43m    \u001B[49m\u001B[43merrors\u001B[49m\u001B[38;5;241;43m=\u001B[39;49m\u001B[38;5;28;43mself\u001B[39;49m\u001B[38;5;241;43m.\u001B[39;49m\u001B[43moptions\u001B[49m\u001B[38;5;241;43m.\u001B[39;49m\u001B[43mget\u001B[49m\u001B[43m(\u001B[49m\u001B[38;5;124;43m\"\u001B[39;49m\u001B[38;5;124;43mencoding_errors\u001B[39;49m\u001B[38;5;124;43m\"\u001B[39;49m\u001B[43m,\u001B[49m\u001B[43m \u001B[49m\u001B[38;5;124;43m\"\u001B[39;49m\u001B[38;5;124;43mstrict\u001B[39;49m\u001B[38;5;124;43m\"\u001B[39;49m\u001B[43m)\u001B[49m\u001B[43m,\u001B[49m\n\u001B[1;32m   1888\u001B[0m \u001B[43m    \u001B[49m\u001B[43mstorage_options\u001B[49m\u001B[38;5;241;43m=\u001B[39;49m\u001B[38;5;28;43mself\u001B[39;49m\u001B[38;5;241;43m.\u001B[39;49m\u001B[43moptions\u001B[49m\u001B[38;5;241;43m.\u001B[39;49m\u001B[43mget\u001B[49m\u001B[43m(\u001B[49m\u001B[38;5;124;43m\"\u001B[39;49m\u001B[38;5;124;43mstorage_options\u001B[39;49m\u001B[38;5;124;43m\"\u001B[39;49m\u001B[43m,\u001B[49m\u001B[43m \u001B[49m\u001B[38;5;28;43;01mNone\u001B[39;49;00m\u001B[43m)\u001B[49m\u001B[43m,\u001B[49m\n\u001B[1;32m   1889\u001B[0m \u001B[43m\u001B[49m\u001B[43m)\u001B[49m\n\u001B[1;32m   1890\u001B[0m \u001B[38;5;28;01massert\u001B[39;00m \u001B[38;5;28mself\u001B[39m\u001B[38;5;241m.\u001B[39mhandles \u001B[38;5;129;01mis\u001B[39;00m \u001B[38;5;129;01mnot\u001B[39;00m \u001B[38;5;28;01mNone\u001B[39;00m\n\u001B[1;32m   1891\u001B[0m f \u001B[38;5;241m=\u001B[39m \u001B[38;5;28mself\u001B[39m\u001B[38;5;241m.\u001B[39mhandles\u001B[38;5;241m.\u001B[39mhandle\n",
      "File \u001B[0;32m~/Documents/EXPE_2024/EXPE42_EVALUATION_ELTeC-fra_09072024/.venv/lib64/python3.10/site-packages/pandas/io/common.py:873\u001B[0m, in \u001B[0;36mget_handle\u001B[0;34m(path_or_buf, mode, encoding, compression, memory_map, is_text, errors, storage_options)\u001B[0m\n\u001B[1;32m    868\u001B[0m \u001B[38;5;28;01melif\u001B[39;00m \u001B[38;5;28misinstance\u001B[39m(handle, \u001B[38;5;28mstr\u001B[39m):\n\u001B[1;32m    869\u001B[0m     \u001B[38;5;66;03m# Check whether the filename is to be opened in binary mode.\u001B[39;00m\n\u001B[1;32m    870\u001B[0m     \u001B[38;5;66;03m# Binary mode does not support 'encoding' and 'newline'.\u001B[39;00m\n\u001B[1;32m    871\u001B[0m     \u001B[38;5;28;01mif\u001B[39;00m ioargs\u001B[38;5;241m.\u001B[39mencoding \u001B[38;5;129;01mand\u001B[39;00m \u001B[38;5;124m\"\u001B[39m\u001B[38;5;124mb\u001B[39m\u001B[38;5;124m\"\u001B[39m \u001B[38;5;129;01mnot\u001B[39;00m \u001B[38;5;129;01min\u001B[39;00m ioargs\u001B[38;5;241m.\u001B[39mmode:\n\u001B[1;32m    872\u001B[0m         \u001B[38;5;66;03m# Encoding\u001B[39;00m\n\u001B[0;32m--> 873\u001B[0m         handle \u001B[38;5;241m=\u001B[39m \u001B[38;5;28;43mopen\u001B[39;49m\u001B[43m(\u001B[49m\n\u001B[1;32m    874\u001B[0m \u001B[43m            \u001B[49m\u001B[43mhandle\u001B[49m\u001B[43m,\u001B[49m\n\u001B[1;32m    875\u001B[0m \u001B[43m            \u001B[49m\u001B[43mioargs\u001B[49m\u001B[38;5;241;43m.\u001B[39;49m\u001B[43mmode\u001B[49m\u001B[43m,\u001B[49m\n\u001B[1;32m    876\u001B[0m \u001B[43m            \u001B[49m\u001B[43mencoding\u001B[49m\u001B[38;5;241;43m=\u001B[39;49m\u001B[43mioargs\u001B[49m\u001B[38;5;241;43m.\u001B[39;49m\u001B[43mencoding\u001B[49m\u001B[43m,\u001B[49m\n\u001B[1;32m    877\u001B[0m \u001B[43m            \u001B[49m\u001B[43merrors\u001B[49m\u001B[38;5;241;43m=\u001B[39;49m\u001B[43merrors\u001B[49m\u001B[43m,\u001B[49m\n\u001B[1;32m    878\u001B[0m \u001B[43m            \u001B[49m\u001B[43mnewline\u001B[49m\u001B[38;5;241;43m=\u001B[39;49m\u001B[38;5;124;43m\"\u001B[39;49m\u001B[38;5;124;43m\"\u001B[39;49m\u001B[43m,\u001B[49m\n\u001B[1;32m    879\u001B[0m \u001B[43m        \u001B[49m\u001B[43m)\u001B[49m\n\u001B[1;32m    880\u001B[0m     \u001B[38;5;28;01melse\u001B[39;00m:\n\u001B[1;32m    881\u001B[0m         \u001B[38;5;66;03m# Binary mode\u001B[39;00m\n\u001B[1;32m    882\u001B[0m         handle \u001B[38;5;241m=\u001B[39m \u001B[38;5;28mopen\u001B[39m(handle, ioargs\u001B[38;5;241m.\u001B[39mmode)\n",
      "\u001B[0;31mFileNotFoundError\u001B[0m: [Errno 2] No such file or directory: '../ANNOTATION_TRANSFORMED_AIA_ARCHI/DAUDET/CF_DAUDET/CF_DAUDET_petit-chose_Kraken-base_spaCy3.7.2-lg.csv.aia.csv'"
     ]
    }
   ],
   "execution_count": 9
  },
  {
   "cell_type": "code",
   "execution_count": null,
   "id": "18bc07a0-bf32-4823-ae13-8e75fa156a45",
   "metadata": {},
   "outputs": [],
   "source": []
  }
 ],
 "metadata": {
  "kernelspec": {
   "display_name": "Python 3 (ipykernel)",
   "language": "python",
   "name": "python3"
  },
  "language_info": {
   "codemirror_mode": {
    "name": "ipython",
    "version": 3
   },
   "file_extension": ".py",
   "mimetype": "text/x-python",
   "name": "python",
   "nbconvert_exporter": "python",
   "pygments_lexer": "ipython3",
   "version": "3.12.5"
  }
 },
 "nbformat": 4,
 "nbformat_minor": 5
}
