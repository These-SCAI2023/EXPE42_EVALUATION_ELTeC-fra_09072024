{
 "cells": [
  {
   "cell_type": "code",
   "execution_count": null,
   "metadata": {},
   "outputs": [],
   "source": [
    "from nltk.corpus import brown # si besoin dans jupyter pip install nltk (déjà installé sur ma machine)\n",
    "from functools import reduce\n",
    "import matplotlib.pyplot as pyplot\n",
    "import re # expression régulière \n",
    "import json\n",
    "import glob\n",
    "import spacy"
   ]
  },
  {
   "cell_type": "code",
   "execution_count": null,
   "metadata": {},
   "outputs": [],
   "source": [
    "def lire_fichier (chemin):\n",
    "    with open(chemin) as json_data: \n",
    "        EN =json.load(json_data)\n",
    "        \n",
    "        return EN\n",
    "\n",
    "def lire_fichier_txt (chemin):\n",
    "    f = open(chemin , encoding = 'utf−8')\n",
    "    chaine = f.read ()\n",
    "    f.close ()\n",
    "    return chaine\n",
    "\n",
    "def texte_to_dict(texte):\n",
    "    texte_dict = {}\n",
    "    \n",
    "    for token in texte:\n",
    "        if token in texte_dict:\n",
    "            texte_dict[token] += 1\n",
    "        else:\n",
    "            texte_dict[token] = 1\n",
    "\n",
    "    return texte_dict\n",
    "\n",
    "\n",
    "def dict_to_list(texte_dict):\n",
    "    texte_list=[]\n",
    "\n",
    "    for mot in texte_dict.keys():\n",
    "        texte_list.append([texte_dict[mot], mot])    \n",
    "\n",
    "    texte_list.sort(reverse=True)\n",
    "    return texte_list\n",
    "\n",
    "def tokeniser(texte):\n",
    "    liste_tok_txt=[]\n",
    "    nlp = spacy.load(\"fr_core_news_sm\")\n",
    "    doc = nlp(texte)\n",
    "    for token in doc:\n",
    "        liste_tok_txt.append(token.text)\n",
    "    return liste_tok_txt"
   ]
  },
  {
   "metadata": {},
   "cell_type": "code",
   "outputs": [],
   "execution_count": null,
   "source": ""
  },
  {
   "metadata": {},
   "cell_type": "code",
   "outputs": [],
   "execution_count": null,
   "source": ""
  },
  {
   "metadata": {},
   "cell_type": "markdown",
   "source": ""
  },
  {
   "cell_type": "code",
   "execution_count": null,
   "metadata": {},
   "outputs": [],
   "source": []
  }
 ],
 "metadata": {
  "kernelspec": {
   "display_name": "Python 3",
   "language": "python",
   "name": "python3"
  },
  "language_info": {
   "codemirror_mode": {
    "name": "ipython",
    "version": 3
   },
   "file_extension": ".py",
   "mimetype": "text/x-python",
   "name": "python",
   "nbconvert_exporter": "python",
   "pygments_lexer": "ipython3",
   "version": "3.7.0"
  }
 },
 "nbformat": 4,
 "nbformat_minor": 4
}
